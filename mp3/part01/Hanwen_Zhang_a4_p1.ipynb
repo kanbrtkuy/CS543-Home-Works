{
 "cells": [
  {
   "cell_type": "markdown",
   "metadata": {},
   "source": [
    "# Common imports"
   ]
  },
  {
   "cell_type": "code",
   "execution_count": 2,
   "metadata": {},
   "outputs": [],
   "source": [
    "%matplotlib tk\n",
    "import matplotlib.pyplot as plt\n",
    "import numpy as np\n",
    "from sympy import *\n",
    "from sympy import solve\n",
    "\n",
    "from PIL import Image"
   ]
  },
  {
   "cell_type": "markdown",
   "metadata": {},
   "source": [
    "# Provided functions"
   ]
  },
  {
   "cell_type": "code",
   "execution_count": 3,
   "metadata": {},
   "outputs": [],
   "source": [
    "def get_input_lines(im, min_lines=3):\n",
    "    \"\"\"\n",
    "    Allows user to input line segments; computes centers and directions.\n",
    "    Inputs:\n",
    "        im: np.ndarray of shape (height, width, 3)\n",
    "        min_lines: minimum number of lines required\n",
    "    Returns:\n",
    "        n: number of lines from input\n",
    "        lines: np.ndarray of shape (3, n)\n",
    "            where each column denotes the parameters of the line equation\n",
    "        centers: np.ndarray of shape (3, n)\n",
    "            where each column denotes the homogeneous coordinates of the centers\n",
    "    \"\"\"\n",
    "    n = 0\n",
    "    lines = np.zeros((3, 0))\n",
    "    centers = np.zeros((3, 0))\n",
    "\n",
    "    plt.figure()\n",
    "    plt.imshow(im)\n",
    "    print('Set at least %d lines to compute vanishing point' % min_lines)\n",
    "    while True:\n",
    "        print('Click the two endpoints, use the right key to undo, and use the middle key to stop input')\n",
    "        clicked = plt.ginput(2, timeout=0, show_clicks=True)\n",
    "        if not clicked or len(clicked) < 2:\n",
    "            if n < min_lines:\n",
    "                print('Need at least %d lines, you have %d now' % (min_lines, n))\n",
    "                continue\n",
    "            else:\n",
    "                # Stop getting lines if number of lines is enough\n",
    "                break\n",
    "\n",
    "        # Unpack user inputs and save as homogeneous coordinates\n",
    "        pt1 = np.array([clicked[0][0], clicked[0][1], 1])\n",
    "        pt2 = np.array([clicked[1][0], clicked[1][1], 1])\n",
    "        # Get line equation using cross product\n",
    "        # Line equation: line[0] * x + line[1] * y + line[2] = 0\n",
    "        line = np.cross(pt1, pt2)\n",
    "        lines = np.append(lines, line.reshape((3, 1)), axis=1)\n",
    "        # Get center coordinate of the line segment\n",
    "        center = (pt1 + pt2) / 2\n",
    "        centers = np.append(centers, center.reshape((3, 1)), axis=1)\n",
    "\n",
    "        # Plot line segment\n",
    "        plt.plot([pt1[0], pt2[0]], [pt1[1], pt2[1]], color='b')\n",
    "\n",
    "        n += 1\n",
    "\n",
    "    return n, lines, centers"
   ]
  },
  {
   "cell_type": "code",
   "execution_count": 4,
   "metadata": {},
   "outputs": [],
   "source": [
    "def plot_lines_and_vp(im, lines, vp):\n",
    "    \"\"\"\n",
    "    Plots user-input lines and the calculated vanishing point.\n",
    "    Inputs:\n",
    "        im: np.ndarray of shape (height, width, 3)\n",
    "        lines: np.ndarray of shape (3, n)\n",
    "            where each column denotes the parameters of the line equation\n",
    "        vp: np.ndarray of shape (3, )\n",
    "    \"\"\"\n",
    "    bx1 = min(1, vp[0] / vp[2]) - 10\n",
    "    bx2 = max(im.shape[1], vp[0] / vp[2]) + 10\n",
    "    by1 = min(1, vp[1] / vp[2]) - 10\n",
    "    by2 = max(im.shape[0], vp[1] / vp[2]) + 10\n",
    "\n",
    "    plt.figure()\n",
    "    plt.imshow(im)\n",
    "    for i in range(lines.shape[1]):\n",
    "        if lines[0, i] < lines[1, i]:\n",
    "            pt1 = np.cross(np.array([1, 0, -bx1]), lines[:, i])\n",
    "            pt2 = np.cross(np.array([1, 0, -bx2]), lines[:, i])\n",
    "        else:\n",
    "            pt1 = np.cross(np.array([0, 1, -by1]), lines[:, i])\n",
    "            pt2 = np.cross(np.array([0, 1, -by2]), lines[:, i])\n",
    "        pt1 = pt1 / pt1[2]\n",
    "        pt2 = pt2 / pt2[2]\n",
    "        plt.plot([pt1[0], pt2[0]], [pt1[1], pt2[1]], 'g')\n",
    "\n",
    "    plt.plot(vp[0] / vp[2], vp[1] / vp[2], 'ro')\n",
    "    plt.show()"
   ]
  },
  {
   "cell_type": "code",
   "execution_count": 5,
   "metadata": {},
   "outputs": [],
   "source": [
    "def get_top_and_bottom_coordinates(im, obj):\n",
    "    \"\"\"\n",
    "    For a specific object, prompts user to record the top coordinate \n",
    "    and the bottom coordinate in the image.\n",
    "    Inputs:\n",
    "        im: np.ndarray of shape (height, width, 3)\n",
    "        obj: string, object name\n",
    "    Returns:\n",
    "        coord: np.ndarray of shape (3, 2)\n",
    "            where coord[:, 0] is the homogeneous coordinate of the top of the object and coord[:, 1] is the homogeneous\n",
    "            coordinate of the bottom\n",
    "    \"\"\"\n",
    "    plt.figure()\n",
    "    plt.imshow(im)\n",
    "\n",
    "    print('Click on the top coordinate of %s' % obj)\n",
    "    clicked = plt.ginput(1, timeout=0, show_clicks=True)\n",
    "    x1, y1 = clicked[0]\n",
    "    # Uncomment this line to enable a vertical line to help align the two coordinates\n",
    "    plt.plot([x1, x1], [0, im.shape[0]], 'b')\n",
    "    print('Click on the bottom coordinate of %s' % obj)\n",
    "    clicked = plt.ginput(1, timeout=0, show_clicks=True)\n",
    "    x2, y2 = clicked[0]\n",
    "\n",
    "    plt.plot([x1, x2], [y1, y2], 'b')\n",
    "\n",
    "    return np.array([[x1, x2], [y1, y2], [1, 1]])"
   ]
  },
  {
   "cell_type": "markdown",
   "metadata": {},
   "source": [
    "# Your implementation"
   ]
  },
  {
   "cell_type": "code",
   "execution_count": 6,
   "metadata": {},
   "outputs": [],
   "source": [
    "def get_vanishing_point(lines):\n",
    "    \"\"\"\n",
    "    Solves for the vanishing point using the user-input lines.\n",
    "    \"\"\"\n",
    "    # <YOUR IMPLEMENTATION>\n",
    "    second_moment = lines.dot(lines.T)\n",
    "    w, v = np.linalg.eig(second_moment)\n",
    "    # Find min eigenvalue and eigen vec.\n",
    "    min_idx = np.argmin(w)\n",
    "    vanish_point = v[:, min_idx]\n",
    "    # Convert to homogeneous.\n",
    "    vanish_point = vanish_point / vanish_point[-1]\n",
    "    return vanish_point"
   ]
  },
  {
   "cell_type": "code",
   "execution_count": 7,
   "metadata": {},
   "outputs": [],
   "source": [
    "def get_horizon_line(vps):\n",
    "    \"\"\"\n",
    "    Calculates the ground horizon line.\n",
    "    \"\"\"\n",
    "    # <YOUR IMPLEMENTATION>\n",
    "    point1 = vps[:, 0]\n",
    "    point2 = vps[:, 1]\n",
    "    \n",
    "    # Line equation: line[0] * x + line[1] * y + line[2] = 0\n",
    "    horizon_line = np.cross(point1, point2)\n",
    "    \n",
    "    # Normalize.\n",
    "    scale = np.sqrt(horizon_line[0]**2 + horizon_line[1]**2)\n",
    "    horizon_line = horizon_line / scale\n",
    "    \n",
    "    return horizon_line"
   ]
  },
  {
   "cell_type": "code",
   "execution_count": 8,
   "metadata": {},
   "outputs": [],
   "source": [
    "def plot_horizon_line(im, horizon_line):\n",
    "    \"\"\"\n",
    "    Plots the horizon line.\n",
    "    \"\"\"\n",
    "    # <YOUR IMPLEMENTATION>\n",
    "    x_range = im.shape[1]\n",
    "    x = np.arange(x_range)\n",
    "    y = (- horizon_line[2] - horizon_line[0] * x) / horizon_line[1]\n",
    "    \n",
    "    plt.figure()\n",
    "    plt.imshow(im)\n",
    "    plt.plot(x, y, 'r', linestyle='-', linewidth=3)    \n",
    "    plt.show()"
   ]
  },
  {
   "cell_type": "code",
   "execution_count": 9,
   "metadata": {},
   "outputs": [],
   "source": [
    "def get_camera_parameters(vpts):\n",
    "    \"\"\"\n",
    "    Computes the camera parameters. Hint: The SymPy package is suitable for this.\n",
    "    \"\"\"\n",
    "    # <YOUR IMPLEMENTATION>\n",
    "    vanish_point_1 = vpts[:, 0][:, np.newaxis]  # column vector\n",
    "    vanish_point_2 = vpts[:, 1][:, np.newaxis]\n",
    "    vanish_point_3 = vpts[:, 2][:, np.newaxis]\n",
    "    \n",
    "    f, px, py= symbols('f, px, py')\n",
    "    K_inv_T = Matrix([[1/f, 0, 0], [0, 1/f, 0], [-px/f, -py/f, 1]])\n",
    "    K_inv = Matrix([[1/f, 0, -px/f], [0, 1/f, -py/f], [0, 0, 1]])\n",
    "    \n",
    "    eq1 = vanish_point_1.T * K_inv_T * K_inv * vanish_point_2\n",
    "    eq2 = vanish_point_1.T * K_inv_T * K_inv * vanish_point_3\n",
    "    eq3 = vanish_point_2.T * K_inv_T * K_inv * vanish_point_3\n",
    "    \n",
    "    f, px, py = solve([eq1[0], eq2[0], eq3[0]], (f, px, py))[0]\n",
    "\n",
    "    return abs(f), px, py"
   ]
  },
  {
   "cell_type": "code",
   "execution_count": 10,
   "metadata": {},
   "outputs": [],
   "source": [
    "def get_rotation_matrix(vpts, f, u, v):\n",
    "    \"\"\"\n",
    "    Computes the rotation matrix using the camera parameters.\n",
    "    \"\"\"\n",
    "    # <YOUR IMPLEMENTATION>\n",
    "    Z = vpts[:, 0][:, np.newaxis]  # column vector\n",
    "    X = vpts[:, 1][:, np.newaxis]\n",
    "    Y = vpts[:, 2][:, np.newaxis]\n",
    "\n",
    "    K = np.array([[f, 0, u], [0, f, v], [0, 0, 1]]).astype(np.float)\n",
    "    K_inv = np.linalg.inv(K)\n",
    "\n",
    "    r1 = K_inv.dot(X)\n",
    "    r2 = K_inv.dot(Y)\n",
    "    r3 = K_inv.dot(Z)\n",
    "\n",
    "    # Normalize.\n",
    "    r1 = r1 / np.linalg.norm(r1)\n",
    "    r2 = r2 / np.linalg.norm(r2)\n",
    "    r3 = r3 / np.linalg.norm(r3)\n",
    "\n",
    "    R = np.concatenate((r1, r2, r3), axis=1)\n",
    "       \n",
    "    return R"
   ]
  },
  {
   "cell_type": "code",
   "execution_count": 11,
   "metadata": {},
   "outputs": [],
   "source": [
    "def estimate_height(im, person_coord, obj_coord, horizon_line, H):\n",
    "    \"\"\"\n",
    "    Estimates height for a specific object using the recorded coordinates. You might need to plot additional images here for\n",
    "    your report.\n",
    "    \"\"\"\n",
    "    # <YOUR IMPLEMENTATION>\n",
    "    vpz = vpts[:, 2]  # Vertical vp.\n",
    "    # Person as reference.\n",
    "    t0 = person_coord[:, 0]\n",
    "    b0 = person_coord[:, 1]\n",
    "\n",
    "    # Obj coords.\n",
    "    r = obj_coord[:, 0]\n",
    "    b = obj_coord[:, 1]\n",
    "\n",
    "    line_b0_b = np.cross(b0, b)\n",
    "    v = np.cross(line_b0_b, horizon_line)\n",
    "    v = v / v[-1]\n",
    "    \n",
    "    line_v_t0 = np.cross(v, t0)\n",
    "    line_r_b = np.cross(r, b)\n",
    "    t = np.cross(line_v_t0, line_r_b)\n",
    "    t = t / t[-1]\n",
    "    \n",
    "    height = H*(np.linalg.norm(r-b) * np.linalg.norm(vpz-t) /\n",
    "              np.linalg.norm(t-b) / np.linalg.norm(vpz-r))\n",
    "    \n",
    "    # Plot the lines used for measuring height.\n",
    "    plt.figure()\n",
    "    plt.imshow(im)\n",
    "    plt.plot([t0[0], b0[0]], [t0[1], b0[1]], 'b', linestyle='-', linewidth=1.5)\n",
    "    plt.plot([b[0], b0[0]], [b[1], b0[1]], 'g', linestyle='-', linewidth=1)\n",
    "    plt.plot([t0[0], t[0]], [t0[1], t[1]], 'g', linestyle='-', linewidth=1)\n",
    "    plt.plot(t[0], t[1], 'g', marker='+')\n",
    "    plt.plot(b[0], b[1], 'g', marker='+')\n",
    "    plt.plot([r[0], b[0]], [r[1], b[1]], 'r', linestyle='-', linewidth=1.5)\n",
    "    \n",
    "    x_range = im.shape[1]\n",
    "    x = np.arange(x_range)\n",
    "    y = (- horizon_line[2] - horizon_line[0] * x) / horizon_line[1]\n",
    "    plt.plot(x, y, 'r', linestyle='-', linewidth=1)   \n",
    "    \n",
    "    plt.plot([b[0], v[0]], [b[1], v[1]], 'g', linestyle='-', linewidth=1)\n",
    "    plt.plot([t[0], v[0]], [t[1], v[1]], 'g', linestyle='-', linewidth=1)\n",
    "    plt.plot(v[0], v[1], 'g', marker='o', markersize=2.5)\n",
    "    \n",
    "    plt.show()\n",
    "    \n",
    "    return height"
   ]
  },
  {
   "cell_type": "markdown",
   "metadata": {},
   "source": [
    "# Main function"
   ]
  },
  {
   "cell_type": "code",
   "execution_count": 12,
   "metadata": {},
   "outputs": [
    {
     "name": "stdout",
     "output_type": "stream",
     "text": [
      "Getting vanishing point 0\n",
      "Set at least 3 lines to compute vanishing point\n",
      "Click the two endpoints, use the right key to undo, and use the middle key to stop input\n",
      "Click the two endpoints, use the right key to undo, and use the middle key to stop input\n",
      "Click the two endpoints, use the right key to undo, and use the middle key to stop input\n",
      "Click the two endpoints, use the right key to undo, and use the middle key to stop input\n",
      "Click the two endpoints, use the right key to undo, and use the middle key to stop input\n",
      "Getting vanishing point 1\n",
      "Set at least 3 lines to compute vanishing point\n",
      "Click the two endpoints, use the right key to undo, and use the middle key to stop input\n",
      "Click the two endpoints, use the right key to undo, and use the middle key to stop input\n",
      "Click the two endpoints, use the right key to undo, and use the middle key to stop input\n",
      "Click the two endpoints, use the right key to undo, and use the middle key to stop input\n",
      "Click the two endpoints, use the right key to undo, and use the middle key to stop input\n",
      "Getting vanishing point 2\n",
      "Set at least 3 lines to compute vanishing point\n",
      "Click the two endpoints, use the right key to undo, and use the middle key to stop input\n",
      "Click the two endpoints, use the right key to undo, and use the middle key to stop input\n",
      "Click the two endpoints, use the right key to undo, and use the middle key to stop input\n",
      "Click the two endpoints, use the right key to undo, and use the middle key to stop input\n",
      "Click the two endpoints, use the right key to undo, and use the middle key to stop input\n"
     ]
    }
   ],
   "source": [
    "im = np.asarray(Image.open('CSL.jpg'))\n",
    "\n",
    "# Part 1\n",
    "# Get vanishing points for each of the directions\n",
    "num_vpts = 3\n",
    "vpts = np.zeros((3, num_vpts))\n",
    "for i in range(num_vpts):\n",
    "    print('Getting vanishing point %d' % i)\n",
    "    # Get at least three lines from user input\n",
    "    n, lines, centers = get_input_lines(im)\n",
    "    # <YOUR IMPLEMENTATION> Solve for vanishing point\n",
    "    vpts[:, i] = get_vanishing_point(lines)\n",
    "    # Plot the lines and the vanishing point\n",
    "    plot_lines_and_vp(im, lines, vpts[:, i])"
   ]
  },
  {
   "cell_type": "code",
   "execution_count": 13,
   "metadata": {
    "scrolled": true
   },
   "outputs": [
    {
     "name": "stdout",
     "output_type": "stream",
     "text": [
      "Focal length: 858.387039286772, Optical center: (639.538466012930, 319.584730160366)\n",
      "Rotation Matrix:\n",
      "[[ 0.70096696 -0.01747516 -0.71297962]\n",
      " [-0.0671824   0.99363652 -0.09040455]\n",
      " [ 0.71002243  0.11127029  0.69533235]]\n"
     ]
    },
    {
     "name": "stderr",
     "output_type": "stream",
     "text": [
      "/var/folders/gj/wh0hvr2s3lqgjbm2qyqh154c0000gn/T/ipykernel_40813/986696420.py:10: DeprecationWarning: `np.float` is a deprecated alias for the builtin `float`. To silence this warning, use `float` by itself. Doing this will not modify any behavior and is safe. If you specifically wanted the numpy scalar type, use `np.float64` here.\n",
      "Deprecated in NumPy 1.20; for more details and guidance: https://numpy.org/devdocs/release/1.20.0-notes.html#deprecations\n",
      "  K = np.array([[f, 0, u], [0, f, v], [0, 0, 1]]).astype(np.float)\n"
     ]
    }
   ],
   "source": [
    "# <YOUR IMPLEMENTATION> Get the ground horizon line\n",
    "im = np.asarray(Image.open('CSL.jpg'))\n",
    "horizon_line = get_horizon_line(vpts)\n",
    "# <YOUR IMPLEMENTATION> Plot the ground horizon line\n",
    "plot_horizon_line(im, horizon_line)\n",
    "\n",
    "# # Part 2\n",
    "# <YOUR IMPLEMENTATION> Solve for the camera parameters (f, u, v)\n",
    "f, u, v = get_camera_parameters(vpts)\n",
    "print(\"Focal length: {}, Optical center: ({}, {})\".format(f, u, v))\n",
    "\n",
    "# # Part 3\n",
    "# <YOUR IMPLEMENTATION> Solve for the rotation matrix\n",
    "R = get_rotation_matrix(vpts, f, u, v)\n",
    "print(\"Rotation Matrix:\")\n",
    "print(R)"
   ]
  },
  {
   "cell_type": "code",
   "execution_count": 14,
   "metadata": {},
   "outputs": [
    {
     "name": "stdout",
     "output_type": "stream",
     "text": [
      "Click on the top coordinate of person\n",
      "Click on the bottom coordinate of person\n",
      "Click on the top coordinate of CSL building\n",
      "Click on the bottom coordinate of CSL building\n",
      "Click on the top coordinate of the spike statue\n",
      "Click on the bottom coordinate of the spike statue\n",
      "Click on the top coordinate of the lamp posts\n",
      "Click on the bottom coordinate of the lamp posts\n"
     ]
    }
   ],
   "source": [
    "# # Part 4\n",
    "# Record image coordinates for each object and store in map\n",
    "objects = ('person', 'CSL building', 'the spike statue', 'the lamp posts')\n",
    "coords = dict()\n",
    "for obj in objects:\n",
    "    coords[obj] = get_top_and_bottom_coordinates(im, obj)"
   ]
  },
  {
   "cell_type": "code",
   "execution_count": 15,
   "metadata": {},
   "outputs": [
    {
     "name": "stdout",
     "output_type": "stream",
     "text": [
      "Estimating height of CSL building\n",
      "Height of CSL building is 28.235751422914234 meters\n",
      "Estimating height of the spike statue\n",
      "Height of the spike statue is 12.02840472560607 meters\n",
      "Estimating height of the lamp posts\n",
      "Height of the lamp posts is 4.7345077614583 meters\n"
     ]
    }
   ],
   "source": [
    "# <YOUR IMPLEMENTATION> Estimate heights\n",
    "H1 = 1.6764  # 5ft 6in to meters\n",
    "for obj in objects[1:]:\n",
    "    print('Estimating height of %s' % obj)\n",
    "    height = estimate_height(im, coords['person'], coords[obj], horizon_line, H1)\n",
    "    print(\"Height of {} is {} meters\".format(obj, height))"
   ]
  },
  {
   "cell_type": "code",
   "execution_count": 16,
   "metadata": {},
   "outputs": [
    {
     "name": "stdout",
     "output_type": "stream",
     "text": [
      "Estimating height of CSL building\n",
      "Height of CSL building is 28.235751422914234 meters\n",
      "Estimating height of the spike statue\n",
      "Height of the spike statue is 12.02840472560607 meters\n",
      "Estimating height of the lamp posts\n",
      "Height of the lamp posts is 4.7345077614583 meters\n"
     ]
    }
   ],
   "source": [
    "# Estimate heights assuming person is 6ft tall\n",
    "H2 = 1.8288  # 6 ft to meters\n",
    "for obj in objects[1:]:\n",
    "    print('Estimating height of %s' % obj)\n",
    "    height = estimate_height(im, coords['person'], coords[obj], horizon_line, H2)\n",
    "    print(\"Height of {} is {} meters\".format(obj, height))"
   ]
  },
  {
   "cell_type": "code",
   "execution_count": 17,
   "metadata": {},
   "outputs": [
    {
     "name": "stdout",
     "output_type": "stream",
     "text": [
      "Click on the top coordinate of lamp post 1\n",
      "Click on the bottom coordinate of lamp post 1\n",
      "Click on the top coordinate of lamp post 2\n",
      "Click on the bottom coordinate of lamp post 2\n"
     ]
    }
   ],
   "source": [
    "# Estimate heights for other lamp posts.\n",
    "# Note that all the other estimations assume the person is 5ft 6in tall.\n",
    "lamp_posts = ('lamp post 1', 'lamp post 2')\n",
    "coords_lp = dict()\n",
    "for lp in lamp_posts:\n",
    "    coords_lp[lp] = get_top_and_bottom_coordinates(im, lp)"
   ]
  },
  {
   "cell_type": "code",
   "execution_count": 18,
   "metadata": {},
   "outputs": [
    {
     "name": "stdout",
     "output_type": "stream",
     "text": [
      "Estimating height of the lamp posts\n",
      "Height of lamp post 1 is 4.675146611695835 meters\n",
      "Estimating height of the lamp posts\n",
      "Height of lamp post 2 is 5.475430271191609 meters\n"
     ]
    },
    {
     "name": "stderr",
     "output_type": "stream",
     "text": [
      "/var/folders/gj/wh0hvr2s3lqgjbm2qyqh154c0000gn/T/ipykernel_40813/3443497682.py:33: RuntimeWarning: More than 20 figures have been opened. Figures created through the pyplot interface (`matplotlib.pyplot.figure`) are retained until explicitly closed and may consume too much memory. (To control this warning, see the rcParam `figure.max_open_warning`).\n",
      "  plt.figure()\n"
     ]
    }
   ],
   "source": [
    "for lp in lamp_posts[:]:\n",
    "    print('Estimating height of %s' % obj)\n",
    "    height = estimate_height(im, coords['person'], coords_lp[lp], horizon_line)\n",
    "    print(\"Height of {} is {} meters\".format(lp, height))"
   ]
  },
  {
   "cell_type": "code",
   "execution_count": 19,
   "metadata": {},
   "outputs": [
    {
     "name": "stdout",
     "output_type": "stream",
     "text": [
      "Coordiantes of vanishing points:\n",
      "[[-2.40634116e+02  1.48697782e+03  5.04727562e+02]\n",
      " [ 2.07980414e+02  2.38364049e+02  7.98492603e+03]\n",
      " [ 1.00000000e+00  1.00000000e+00  1.00000000e+00]]\n"
     ]
    }
   ],
   "source": [
    "print(\"Coordiantes of vanishing points:\")\n",
    "print(vpts)"
   ]
  },
  {
   "cell_type": "code",
   "execution_count": 20,
   "metadata": {},
   "outputs": [
    {
     "name": "stdout",
     "output_type": "stream",
     "text": [
      "Horizon line:\n",
      "[-1.75843520e-02  9.99845383e-01 -2.12179652e+02]\n"
     ]
    }
   ],
   "source": [
    "print(\"Horizon line:\")\n",
    "print(horizon_line)"
   ]
  },
  {
   "cell_type": "markdown",
   "metadata": {},
   "source": [
    "# Extra Credit"
   ]
  },
  {
   "cell_type": "markdown",
   "metadata": {},
   "source": [
    "## Heights of all visible people"
   ]
  },
  {
   "cell_type": "code",
   "execution_count": 21,
   "metadata": {},
   "outputs": [
    {
     "name": "stdout",
     "output_type": "stream",
     "text": [
      "Click on the top coordinate of person 1\n",
      "Click on the bottom coordinate of person 1\n",
      "Click on the top coordinate of person 2\n",
      "Click on the bottom coordinate of person 2\n",
      "Click on the top coordinate of person 3\n",
      "Click on the bottom coordinate of person 3\n"
     ]
    }
   ],
   "source": [
    "person = ('person 1', 'person 2', 'person 3')\n",
    "coords_p = dict()\n",
    "for p in person:\n",
    "    coords_p[p] = get_top_and_bottom_coordinates(im, p)"
   ]
  },
  {
   "cell_type": "code",
   "execution_count": 22,
   "metadata": {},
   "outputs": [
    {
     "name": "stdout",
     "output_type": "stream",
     "text": [
      "Estimating height of person 1\n",
      "Height of person 1 is 1.6214426338772134 meters\n",
      "Estimating height of person 2\n",
      "Height of person 2 is 1.7342718532356907 meters\n",
      "Estimating height of person 3\n",
      "Height of person 3 is 1.5163864840352395 meters\n"
     ]
    }
   ],
   "source": [
    "for p in person[:]:\n",
    "    print('Estimating height of %s' % p)\n",
    "    height = estimate_height(im, coords['person'], coords_p[p], horizon_line)\n",
    "    print(\"Height of {} is {} meters\".format(p, height))"
   ]
  },
  {
   "cell_type": "code",
   "execution_count": null,
   "metadata": {},
   "outputs": [],
   "source": []
  }
 ],
 "metadata": {
  "kernelspec": {
   "display_name": "Python 3 (ipykernel)",
   "language": "python",
   "name": "python3"
  },
  "language_info": {
   "codemirror_mode": {
    "name": "ipython",
    "version": 3
   },
   "file_extension": ".py",
   "mimetype": "text/x-python",
   "name": "python",
   "nbconvert_exporter": "python",
   "pygments_lexer": "ipython3",
   "version": "3.9.12"
  }
 },
 "nbformat": 4,
 "nbformat_minor": 2
}
